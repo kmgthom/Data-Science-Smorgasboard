{
 "cells": [
  {
   "cell_type": "markdown",
   "metadata": {},
   "source": [
    "# Data Science Smörgåsbord: Classification\n",
    "### Kori Thompson\n",
    "Please note this is an exercise to familarlize yourself with different classification algorithms and to understand how to interpret the models. Actual data science project typically use more complex dataset, involve more in-depth exploratory data analysis and use more best pratices than this exercise.\n",
    "\n",
    "Classification algorithms are supervised machine learning algorithms that attempt to predict which class of a categorical variable an instance belongs to. For example, a classification algorithm might seek to identify whether a person is likely to buy a product given a set of input features. These models are typically assessed using confusion matrices and its corresponsing metrics (recall, precision, accuracy) as well as ROC-AUC scores. This exercise examines three different classification algorithms and walks through how to interpret the confusion matrices and ROC-AUC scores. It also highlights the effects of scaling data for distance based algorithms."
   ]
  },
  {
   "cell_type": "code",
   "execution_count": 1,
   "metadata": {},
   "outputs": [],
   "source": [
    "# data manipulation\n",
    "import numpy as np\n",
    "import pandas as pd\n",
    "# data visualization\n",
    "from matplotlib import pyplot as plt \n",
    "import seaborn as sns\n",
    "# utilities\n",
    "from sklearn.model_selection import train_test_split, GridSearchCV, cross_val_predict\n",
    "from sklearn.preprocessing import StandardScaler\n",
    "# modeling and metrics\n",
    "from sklearn.linear_model import LogisticRegression\n",
    "from sklearn import svm\n",
    "from sklearn.tree import DecisionTreeClassifier\n",
    "from sklearn.metrics import (classification_report, \n",
    "                             confusion_matrix, \n",
    "                             ConfusionMatrixDisplay,\n",
    "                             accuracy_score, \n",
    "                             precision_score, \n",
    "                             recall_score,\n",
    "                             roc_curve,\n",
    "                             roc_auc_score)"
   ]
  },
  {
   "cell_type": "markdown",
   "metadata": {},
   "source": [
    "## Exploratory Data Analysis"
   ]
  },
  {
   "cell_type": "code",
   "execution_count": 2,
   "metadata": {},
   "outputs": [],
   "source": [
    "df = sns.load_dataset('titanic')"
   ]
  },
  {
   "cell_type": "code",
   "execution_count": 8,
   "metadata": {},
   "outputs": [
    {
     "data": {
      "text/plain": [
       "survived         0\n",
       "pclass           0\n",
       "sex              0\n",
       "age            177\n",
       "sibsp            0\n",
       "parch            0\n",
       "fare             0\n",
       "embarked         2\n",
       "class            0\n",
       "who              0\n",
       "adult_male       0\n",
       "deck           688\n",
       "embark_town      2\n",
       "alive            0\n",
       "alone            0\n",
       "dtype: int64"
      ]
     },
     "execution_count": 8,
     "metadata": {},
     "output_type": "execute_result"
    }
   ],
   "source": [
    "df.isnull().sum()"
   ]
  },
  {
   "cell_type": "code",
   "execution_count": 11,
   "metadata": {},
   "outputs": [
    {
     "data": {
      "text/plain": [
       "survived       0.000000\n",
       "pclass         0.000000\n",
       "sex            0.000000\n",
       "age            0.203682\n",
       "sibsp          0.000000\n",
       "parch          0.000000\n",
       "fare           0.000000\n",
       "embarked       0.002301\n",
       "class          0.000000\n",
       "who            0.000000\n",
       "adult_male     0.000000\n",
       "deck           0.791715\n",
       "embark_town    0.002301\n",
       "alive          0.000000\n",
       "alone          0.000000\n",
       "dtype: float64"
      ]
     },
     "execution_count": 11,
     "metadata": {},
     "output_type": "execute_result"
    }
   ],
   "source": [
    "df.isnull().sum()/df.isnull().sum().sum()"
   ]
  },
  {
   "cell_type": "markdown",
   "metadata": {},
   "source": [
    "Since the proportion of null values for the deck feature is above 50%, it makes little sense to try and input values. Since the feature is mostly null, it provides little information for the majority of the dataset, we will drop the feature from the dataset."
   ]
  },
  {
   "cell_type": "code",
   "execution_count": 3,
   "metadata": {},
   "outputs": [],
   "source": [
    "df.drop(columns='deck', inplace=True)"
   ]
  },
  {
   "cell_type": "code",
   "execution_count": 10,
   "metadata": {},
   "outputs": [
    {
     "data": {
      "text/html": [
       "<div>\n",
       "<style scoped>\n",
       "    .dataframe tbody tr th:only-of-type {\n",
       "        vertical-align: middle;\n",
       "    }\n",
       "\n",
       "    .dataframe tbody tr th {\n",
       "        vertical-align: top;\n",
       "    }\n",
       "\n",
       "    .dataframe thead th {\n",
       "        text-align: right;\n",
       "    }\n",
       "</style>\n",
       "<table border=\"1\" class=\"dataframe\">\n",
       "  <thead>\n",
       "    <tr style=\"text-align: right;\">\n",
       "      <th></th>\n",
       "      <th>pclass</th>\n",
       "      <th>class</th>\n",
       "    </tr>\n",
       "  </thead>\n",
       "  <tbody>\n",
       "    <tr>\n",
       "      <th>0</th>\n",
       "      <td>3</td>\n",
       "      <td>Third</td>\n",
       "    </tr>\n",
       "    <tr>\n",
       "      <th>1</th>\n",
       "      <td>1</td>\n",
       "      <td>First</td>\n",
       "    </tr>\n",
       "    <tr>\n",
       "      <th>9</th>\n",
       "      <td>2</td>\n",
       "      <td>Second</td>\n",
       "    </tr>\n",
       "  </tbody>\n",
       "</table>\n",
       "</div>"
      ],
      "text/plain": [
       "   pclass   class\n",
       "0       3   Third\n",
       "1       1   First\n",
       "9       2  Second"
      ]
     },
     "execution_count": 10,
     "metadata": {},
     "output_type": "execute_result"
    }
   ],
   "source": [
    "df[['pclass','class']].drop_duplicates()"
   ]
  },
  {
   "cell_type": "markdown",
   "metadata": {},
   "source": [
    "Based on an examination, it is clear that the pclass and the class features are redundant. Therefore one of the features can be removed from the dataset without the loss of any information. This helps to reduce the dimensionality of the dataset and remove any potential colinearity among the features that can obscure the relationship of input features to the target feature."
   ]
  },
  {
   "cell_type": "code",
   "execution_count": 11,
   "metadata": {},
   "outputs": [
    {
     "data": {
      "text/html": [
       "<div>\n",
       "<style scoped>\n",
       "    .dataframe tbody tr th:only-of-type {\n",
       "        vertical-align: middle;\n",
       "    }\n",
       "\n",
       "    .dataframe tbody tr th {\n",
       "        vertical-align: top;\n",
       "    }\n",
       "\n",
       "    .dataframe thead th {\n",
       "        text-align: right;\n",
       "    }\n",
       "</style>\n",
       "<table border=\"1\" class=\"dataframe\">\n",
       "  <thead>\n",
       "    <tr style=\"text-align: right;\">\n",
       "      <th></th>\n",
       "      <th>survived</th>\n",
       "      <th>alive</th>\n",
       "    </tr>\n",
       "  </thead>\n",
       "  <tbody>\n",
       "    <tr>\n",
       "      <th>0</th>\n",
       "      <td>0</td>\n",
       "      <td>no</td>\n",
       "    </tr>\n",
       "    <tr>\n",
       "      <th>1</th>\n",
       "      <td>1</td>\n",
       "      <td>yes</td>\n",
       "    </tr>\n",
       "  </tbody>\n",
       "</table>\n",
       "</div>"
      ],
      "text/plain": [
       "   survived alive\n",
       "0         0    no\n",
       "1         1   yes"
      ]
     },
     "execution_count": 11,
     "metadata": {},
     "output_type": "execute_result"
    }
   ],
   "source": [
    "df[['survived','alive']].drop_duplicates()"
   ]
  },
  {
   "cell_type": "markdown",
   "metadata": {},
   "source": [
    "The survived and alive features are also redundant features and one feature should be removed from the dataset."
   ]
  },
  {
   "cell_type": "code",
   "execution_count": 12,
   "metadata": {},
   "outputs": [
    {
     "data": {
      "text/html": [
       "<div>\n",
       "<style scoped>\n",
       "    .dataframe tbody tr th:only-of-type {\n",
       "        vertical-align: middle;\n",
       "    }\n",
       "\n",
       "    .dataframe tbody tr th {\n",
       "        vertical-align: top;\n",
       "    }\n",
       "\n",
       "    .dataframe thead th {\n",
       "        text-align: right;\n",
       "    }\n",
       "</style>\n",
       "<table border=\"1\" class=\"dataframe\">\n",
       "  <thead>\n",
       "    <tr style=\"text-align: right;\">\n",
       "      <th></th>\n",
       "      <th>embarked</th>\n",
       "      <th>embark_town</th>\n",
       "    </tr>\n",
       "  </thead>\n",
       "  <tbody>\n",
       "    <tr>\n",
       "      <th>0</th>\n",
       "      <td>S</td>\n",
       "      <td>Southampton</td>\n",
       "    </tr>\n",
       "    <tr>\n",
       "      <th>1</th>\n",
       "      <td>C</td>\n",
       "      <td>Cherbourg</td>\n",
       "    </tr>\n",
       "    <tr>\n",
       "      <th>5</th>\n",
       "      <td>Q</td>\n",
       "      <td>Queenstown</td>\n",
       "    </tr>\n",
       "    <tr>\n",
       "      <th>61</th>\n",
       "      <td>NaN</td>\n",
       "      <td>NaN</td>\n",
       "    </tr>\n",
       "  </tbody>\n",
       "</table>\n",
       "</div>"
      ],
      "text/plain": [
       "   embarked  embark_town\n",
       "0         S  Southampton\n",
       "1         C    Cherbourg\n",
       "5         Q   Queenstown\n",
       "61      NaN          NaN"
      ]
     },
     "execution_count": 12,
     "metadata": {},
     "output_type": "execute_result"
    }
   ],
   "source": [
    "df[['embarked','embark_town']].drop_duplicates()"
   ]
  },
  {
   "cell_type": "markdown",
   "metadata": {},
   "source": [
    "Again, the embarked and embarked_town features are redundant features and one feature should be removed from the dataset."
   ]
  },
  {
   "cell_type": "code",
   "execution_count": 45,
   "metadata": {},
   "outputs": [
    {
     "data": {
      "text/plain": [
       "who    sex     adult_male\n",
       "child  female  False          43\n",
       "       male    False          40\n",
       "man    male    True          537\n",
       "woman  female  False         271\n",
       "Name: count, dtype: int64"
      ]
     },
     "execution_count": 45,
     "metadata": {},
     "output_type": "execute_result"
    }
   ],
   "source": [
    "pd.set_option('display.max_rows', None)\n",
    "pd.set_option('display.max_columns', None)\n",
    "df.groupby(['who','sex'])['adult_male'].value_counts()"
   ]
  },
  {
   "cell_type": "markdown",
   "metadata": {},
   "source": [
    "Interestingly, the who feature is also a redundant feature as it contains the same information as the sex and adult_male features. As such the feature can also be removed from the dataset as it adds no additional information."
   ]
  },
  {
   "cell_type": "code",
   "execution_count": 4,
   "metadata": {},
   "outputs": [],
   "source": [
    "df.drop(columns=['alive','embarked','class','who'],inplace=True)"
   ]
  },
  {
   "cell_type": "code",
   "execution_count": 56,
   "metadata": {},
   "outputs": [
    {
     "data": {
      "text/plain": [
       "adult_male  age    age    sex   \n",
       "False       False  False  female     43\n",
       "                          male       40\n",
       "                   True   female     53\n",
       "            True   False  female    218\n",
       "True        False  True   male      124\n",
       "            True   False  male      413\n",
       "Name: count, dtype: int64"
      ]
     },
     "execution_count": 56,
     "metadata": {},
     "output_type": "execute_result"
    }
   ],
   "source": [
    "df.groupby(['adult_male',df['age']>=16, df['age'].isnull()])['sex'].value_counts()"
   ]
  },
  {
   "cell_type": "markdown",
   "metadata": {},
   "source": [
    "The logic to calculate the adult_male column combines both the sex and age features. A passenger sex must be equal to male and their age must be greater than or equal to 16 or the age must be null for adult_male to be true else adult_male is false. Since this feaure is also redundant it can safely be removed from the dataset."
   ]
  },
  {
   "cell_type": "code",
   "execution_count": 5,
   "metadata": {},
   "outputs": [],
   "source": [
    "df.drop(columns='adult_male',inplace=True)"
   ]
  },
  {
   "cell_type": "code",
   "execution_count": 53,
   "metadata": {},
   "outputs": [
    {
     "data": {
      "text/plain": [
       "sex     survived\n",
       "female  1           233\n",
       "        0            81\n",
       "male    0           468\n",
       "        1           109\n",
       "Name: count, dtype: int64"
      ]
     },
     "execution_count": 53,
     "metadata": {},
     "output_type": "execute_result"
    }
   ],
   "source": [
    "df.groupby('sex')['survived'].value_counts()"
   ]
  },
  {
   "cell_type": "code",
   "execution_count": 52,
   "metadata": {},
   "outputs": [
    {
     "data": {
      "text/plain": [
       "sex     survived\n",
       "female  1           0.261504\n",
       "        0           0.090909\n",
       "male    0           0.525253\n",
       "        1           0.122334\n",
       "Name: count, dtype: float64"
      ]
     },
     "execution_count": 52,
     "metadata": {},
     "output_type": "execute_result"
    }
   ],
   "source": [
    "df.groupby('sex')['survived'].value_counts().apply(lambda x: x/df['survived'].count())"
   ]
  },
  {
   "cell_type": "markdown",
   "metadata": {},
   "source": [
    "An interesting trend in the data and a particularly well know trend is that women were more likely to survive the Titantic than men. In fact approximately 52.5% of men did not survive compared to 0.09% of women that did not survive. Another trend of note, it that there were significantly more men on the Titantic than there were women present."
   ]
  },
  {
   "cell_type": "code",
   "execution_count": 55,
   "metadata": {},
   "outputs": [
    {
     "data": {
      "text/plain": [
       "pclass  survived\n",
       "1       1           0.152637\n",
       "        0           0.089787\n",
       "2       0           0.108866\n",
       "        1           0.097643\n",
       "3       0           0.417508\n",
       "        1           0.133558\n",
       "Name: count, dtype: float64"
      ]
     },
     "execution_count": 55,
     "metadata": {},
     "output_type": "execute_result"
    }
   ],
   "source": [
    "df.groupby(['pclass'])['survived'].value_counts().apply(lambda x: x/df['pclass'].count())"
   ]
  },
  {
   "cell_type": "markdown",
   "metadata": {},
   "source": [
    "Another familiar trend that can be seen in the data, is that fact that those in higher classes tended to survive at higher rates than those in the lower classes. You can also note for the percentages, that there were a larger share of passengers in the lower classes, particularly in third class than there were in other classes."
   ]
  },
  {
   "cell_type": "code",
   "execution_count": 61,
   "metadata": {},
   "outputs": [
    {
     "data": {
      "text/plain": [
       "count    891.000000\n",
       "mean      32.204208\n",
       "std       49.693429\n",
       "min        0.000000\n",
       "25%        7.910400\n",
       "50%       14.454200\n",
       "75%       31.000000\n",
       "max      512.329200\n",
       "Name: fare, dtype: float64"
      ]
     },
     "execution_count": 61,
     "metadata": {},
     "output_type": "execute_result"
    }
   ],
   "source": [
    "df['fare'].describe()"
   ]
  },
  {
   "cell_type": "code",
   "execution_count": null,
   "metadata": {},
   "outputs": [
    {
     "data": {
      "image/png": "[encoded data removed]",
      "text/plain": [
       "<Figure size 640x480 with 1 Axes>"
      ]
     },
     "metadata": {},
     "output_type": "display_data"
    }
   ],
   "source": [
    "df['fare'].hist(bins=25, xlabel='Fare', ylabel='Count')\n",
    "plt.show()"
   ]
  },
  {
   "cell_type": "markdown",
   "metadata": {},
   "source": [
    "The fare distribution skews right and has a large spread of values. There is has a high number of data points with a fare equal clustered around $0 and one outlier point with a fare of around $500. The most frequent fare price was $14.45, the minimum fare was $0 and the maximum fare was $512.33. "
   ]
  },
  {
   "cell_type": "code",
   "execution_count": null,
   "metadata": {},
   "outputs": [
    {
     "data": {
      "image/png": "[encoded data removed]",
      "text/plain": [
       "<Figure size 640x480 with 1 Axes>"
      ]
     },
     "metadata": {},
     "output_type": "display_data"
    }
   ],
   "source": [
    "df['age'].hist(xlabel='Age', ylabel='Count')\n",
    "plt.show()"
   ]
  },
  {
   "cell_type": "code",
   "execution_count": 64,
   "metadata": {},
   "outputs": [
    {
     "data": {
      "text/plain": [
       "count    714.000000\n",
       "mean      29.699118\n",
       "std       14.526497\n",
       "min        0.420000\n",
       "25%       20.125000\n",
       "50%       28.000000\n",
       "75%       38.000000\n",
       "max       80.000000\n",
       "Name: age, dtype: float64"
      ]
     },
     "execution_count": 64,
     "metadata": {},
     "output_type": "execute_result"
    }
   ],
   "source": [
    "df['age'].describe()"
   ]
  },
  {
   "cell_type": "markdown",
   "metadata": {},
   "source": [
    "The distribution of the non-null values of the age feature approximates a normal distribution with a peak at around 20 to 30 years of age. The minmum age was 0.42 years and the maximum age was 80 years. The most frequent age of passengers was 28 years. The distribution also has a relatively small spread of values with a standard deviation of 14.526 compared to the spread of data in the fare distribution. "
   ]
  },
  {
   "cell_type": "code",
   "execution_count": 65,
   "metadata": {},
   "outputs": [
    {
     "data": {
      "text/plain": [
       "pclass\n",
       "1    37.0\n",
       "2    29.0\n",
       "3    24.0\n",
       "Name: age, dtype: float64"
      ]
     },
     "execution_count": 65,
     "metadata": {},
     "output_type": "execute_result"
    }
   ],
   "source": [
    "df.groupby('pclass')['age'].median()"
   ]
  },
  {
   "cell_type": "markdown",
   "metadata": {},
   "source": [
    "The median age of each passenger class differs with the highest median age being in class 1 and the lowest median age in class 3. As such any inputation of values should also take into consideration the class in which the passenger was in."
   ]
  },
  {
   "cell_type": "code",
   "execution_count": 6,
   "metadata": {},
   "outputs": [],
   "source": [
    "df['age'] = df.groupby('pclass')['age'].transform(lambda x: x.fillna(value= x.median()))"
   ]
  },
  {
   "cell_type": "markdown",
   "metadata": {},
   "source": [
    "As the remaining null values are relatively small, less than 1% of the dataset, we will drop the instances with remaining null values."
   ]
  },
  {
   "cell_type": "code",
   "execution_count": 7,
   "metadata": {},
   "outputs": [
    {
     "data": {
      "text/plain": [
       "survived       0\n",
       "pclass         0\n",
       "sex            0\n",
       "age            0\n",
       "sibsp          0\n",
       "parch          0\n",
       "fare           0\n",
       "embark_town    0\n",
       "alone          0\n",
       "dtype: int64"
      ]
     },
     "execution_count": 7,
     "metadata": {},
     "output_type": "execute_result"
    }
   ],
   "source": [
    "df.dropna(inplace=True)\n",
    "df.isnull().sum()"
   ]
  },
  {
   "cell_type": "code",
   "execution_count": 17,
   "metadata": {},
   "outputs": [
    {
     "name": "stdout",
     "output_type": "stream",
     "text": [
      "The number of remaining rows in the dataset: 889\n"
     ]
    }
   ],
   "source": [
    "print(f'The number of remaining rows in the dataset: {len(df)}')"
   ]
  },
  {
   "cell_type": "code",
   "execution_count": 93,
   "metadata": {},
   "outputs": [
    {
     "data": {
      "text/plain": [
       "survived         int64\n",
       "pclass           int64\n",
       "sex             object\n",
       "age            float64\n",
       "sibsp            int64\n",
       "parch            int64\n",
       "fare           float64\n",
       "embark_town     object\n",
       "alone             bool\n",
       "dtype: object"
      ]
     },
     "execution_count": 93,
     "metadata": {},
     "output_type": "execute_result"
    }
   ],
   "source": [
    "df.dtypes"
   ]
  },
  {
   "cell_type": "markdown",
   "metadata": {},
   "source": [
    "Of the features in the dataset, pclass, sex, embark_town, and alone are categorical. This can be seen as each value only takes on a specific set of values. For example the pclass feature can only take on either 1, 2, or 3 for a value while both sex and alone are binary. To use these features in our models we will one-hot encode these features so that each value of the feature becomes its own binary feature signifying the presence of that value for the instance."
   ]
  },
  {
   "cell_type": "code",
   "execution_count": 8,
   "metadata": {},
   "outputs": [],
   "source": [
    "df_cleaned = pd.get_dummies(df, columns=['pclass','sex','embark_town','alone'])"
   ]
  },
  {
   "cell_type": "markdown",
   "metadata": {},
   "source": [
    "## Modeling"
   ]
  },
  {
   "cell_type": "code",
   "execution_count": 9,
   "metadata": {},
   "outputs": [],
   "source": [
    "xTrain, xTest, yTrain, yTest = train_test_split(df_cleaned.drop(columns=['survived']),\n",
    "                                                df_cleaned.survived, \n",
    "                                                random_state= 5280, \n",
    "                                                train_size=0.2,\n",
    "                                                stratify=df_cleaned.survived)"
   ]
  },
  {
   "cell_type": "markdown",
   "metadata": {},
   "source": [
    "Since the classes for our target feature, survived, are imbalanced we want to preserve this imbalance between the training and test sets. This enables the model to learn the imbalance and then be tested on a similarly imbalanced dataset. Since this is the entire population, we know that the imbalance is reflected in the population which is why we are preserving the imbalance in both the test and training datasets."
   ]
  },
  {
   "cell_type": "code",
   "execution_count": 34,
   "metadata": {},
   "outputs": [
    {
     "name": "stdout",
     "output_type": "stream",
     "text": [
      "Dimensions \n",
      "Training:(177, 14) \n",
      "Testing:(712, 14)\n",
      "\n",
      "Initial Target Set Distribution\n",
      "survived\n",
      "0    0.617548\n",
      "1    0.382452\n",
      "Name: count, dtype: float64\n",
      "\n",
      "Target Distributions\n",
      "Training \n",
      "survived\n",
      "0    0.615819\n",
      "1    0.384181\n",
      "Name: count, dtype: float64\n",
      "Testing \n",
      "survived\n",
      "0    0.617978\n",
      "1    0.382022\n",
      "Name: count, dtype: float64\n"
     ]
    }
   ],
   "source": [
    "print(f'Dimensions \\nTraining:{xTrain.shape} \\nTesting:{xTest.shape}')\n",
    "print()\n",
    "print(f'Initial Target Set Distribution')\n",
    "print(df_cleaned.survived.value_counts(dropna= False) /df_cleaned.shape[0])\n",
    "print()\n",
    "print(f'Target Distributions')\n",
    "print(f'Training \\n{yTrain.value_counts().sort_index() / yTrain.shape[0]}')\n",
    "print(f'Testing \\n{yTest.value_counts().sort_index() / yTest.shape[0]}')"
   ]
  },
  {
   "cell_type": "markdown",
   "metadata": {},
   "source": [
    "Normally, due to the difference is scales of the numerical features, we would scale our data to prevent features with larger scales overpower features with smaller scales. However, to illustrate the impact that scaling data can have on model performance, the models are run first without scaling. The models are then run again with the scaled features to highlight the improvement in the performance of the models. This performance boost is particularly seen with the Support Vector Machine (SVM) model which performed the worst with the unscaled data. "
   ]
  },
  {
   "cell_type": "code",
   "execution_count": 10,
   "metadata": {},
   "outputs": [],
   "source": [
    "log_reg = LogisticRegression(max_iter= 1000)\n",
    "svc = svm.SVC(probability= True)\n",
    "decisionTree = DecisionTreeClassifier()"
   ]
  },
  {
   "cell_type": "markdown",
   "metadata": {},
   "source": [
    "The three classification models that we are constructing are a logistic regression, a decision tree classifier, and a support vector machine (svm) classifier. Each classifier works differently to predict the probability of an instance being in each of our target classes. How each model works is outside the scope of this exercise. If you are interested in how each algorithm works, I recommend the <a href='https://www.youtube.com/channel/UCtYLUTtgS3k1Fg4y5tAhLbw'>StatQuest</a> videos for each alogorithm."
   ]
  },
  {
   "cell_type": "code",
   "execution_count": 11,
   "metadata": {},
   "outputs": [],
   "source": [
    "log_reg_cv = cross_val_predict(estimator=log_reg, X=xTrain, y=yTrain, cv=5, method='predict_proba')\n",
    "\n",
    "svc_cv = cross_val_predict(estimator=svc, X=xTrain, y=yTrain, cv=5, method='predict_proba')\n",
    "\n",
    "decisionTree_cv = cross_val_predict(estimator=decisionTree, X=xTrain, y=yTrain, cv=5, method='predict_proba')"
   ]
  },
  {
   "cell_type": "markdown",
   "metadata": {},
   "source": [
    "To see how each model performed, we will examine the classification report, the confusion matrix, and the ROC-AUC score of model. The classification report provides information on how well the model predicted each class using several different metrics. Precision is the percent of correct positives out of all predicted positives. Recall is the percent of correct positives out of observed positives. The F1-score is the harmonic mean of the precision and recall or essentially splits the difference between precision and recall. Accuracy is the percent of correct predictions overall. These metric provide useful insight into see how percise the model is with predict if a passenger survived and how often the model correctly predicted a passenger's survival. Confusion matrices provide insight into how the model predicted each instance. It shows the number of true positives, false positives, true negatives, and false negatives. These counts are help in understanding where the model made the most mistakes in its predictions. The ROC-AUC score evaluates how well the model separated the classes. The higher the ROC-AUC score the better the model performed and the less misclassifications it made as the classes were very separated."
   ]
  },
  {
   "cell_type": "code",
   "execution_count": 12,
   "metadata": {},
   "outputs": [
    {
     "name": "stdout",
     "output_type": "stream",
     "text": [
      "####### LOGISTIC REGRESSION CLASSIFICATION REPORT #######\n",
      "              precision    recall  f1-score   support\n",
      "\n",
      "           0       0.81      0.84      0.83       109\n",
      "           1       0.73      0.68      0.70        68\n",
      "\n",
      "    accuracy                           0.78       177\n",
      "   macro avg       0.77      0.76      0.76       177\n",
      "weighted avg       0.78      0.78      0.78       177\n",
      "\n"
     ]
    },
    {
     "data": {
      "image/png": "[encoded data removed]",
      "text/plain": [
       "<Figure size 640x480 with 1 Axes>"
      ]
     },
     "metadata": {},
     "output_type": "display_data"
    },
    {
     "name": "stdout",
     "output_type": "stream",
     "text": [
      "ROC-AUC Score: 0.7602536427415003\n"
     ]
    }
   ],
   "source": [
    "print('####### LOGISTIC REGRESSION CLASSIFICATION REPORT #######')\n",
    "print(classification_report(y_true= yTrain, y_pred= [1 if log_reg_cv[i][1] > 0.5 else 0 for i in range(len(log_reg_cv))]))\n",
    "ConfusionMatrixDisplay.from_predictions(y_true= yTrain, y_pred= [1 if log_reg_cv[i][1] > 0.5 else 0 for i in range(len(log_reg_cv))], colorbar= False)\n",
    "plt.show()\n",
    "print(f'ROC-AUC Score: {roc_auc_score(y_true=yTrain, y_score = [1 if log_reg_cv[i][1] > 0.5 else 0 for i in range(len(log_reg_cv))])}')"
   ]
  },
  {
   "cell_type": "code",
   "execution_count": 13,
   "metadata": {},
   "outputs": [
    {
     "name": "stdout",
     "output_type": "stream",
     "text": [
      "####### DECISION TREE CLASSIFICATION REPORT #######\n",
      "              precision    recall  f1-score   support\n",
      "\n",
      "           0       0.77      0.73      0.75       109\n",
      "           1       0.60      0.65      0.62        68\n",
      "\n",
      "    accuracy                           0.70       177\n",
      "   macro avg       0.69      0.69      0.69       177\n",
      "weighted avg       0.71      0.70      0.70       177\n",
      "\n"
     ]
    },
    {
     "data": {
      "image/png": "[encoded data removed]",
      "text/plain": [
       "<Figure size 640x480 with 1 Axes>"
      ]
     },
     "metadata": {},
     "output_type": "display_data"
    },
    {
     "name": "stdout",
     "output_type": "stream",
     "text": [
      "ROC-AUC Score: 0.6905018888289262\n"
     ]
    }
   ],
   "source": [
    "print('####### DECISION TREE CLASSIFICATION REPORT #######')\n",
    "print(classification_report(y_true= yTrain, y_pred= [1 if decisionTree_cv[i][1] > 0.5 else 0 for i in range(len(decisionTree_cv))]))\n",
    "ConfusionMatrixDisplay.from_predictions(y_true= yTrain, y_pred= [1 if decisionTree_cv[i][1] > 0.5 else 0 for i in range(len(decisionTree_cv))], colorbar= False)\n",
    "plt.show()\n",
    "print(f'ROC-AUC Score: {roc_auc_score(y_true=yTrain, y_score = [1 if decisionTree_cv[i][1] > 0.5 else 0 for i in range(len(decisionTree_cv))])}')"
   ]
  },
  {
   "cell_type": "code",
   "execution_count": 14,
   "metadata": {},
   "outputs": [
    {
     "name": "stdout",
     "output_type": "stream",
     "text": [
      "####### SUPPORT VECTOR CLASSIFICATION REPORT #######\n",
      "              precision    recall  f1-score   support\n",
      "\n",
      "           0       0.63      0.91      0.74       109\n",
      "           1       0.50      0.15      0.23        68\n",
      "\n",
      "    accuracy                           0.62       177\n",
      "   macro avg       0.57      0.53      0.49       177\n",
      "weighted avg       0.58      0.62      0.55       177\n",
      "\n"
     ]
    },
    {
     "data": {
      "image/png": "[encoded data removed]",
      "text/plain": [
       "<Figure size 640x480 with 1 Axes>"
      ]
     },
     "metadata": {},
     "output_type": "display_data"
    },
    {
     "name": "stdout",
     "output_type": "stream",
     "text": [
      "ROC-AUC Score: 0.5276578521316783\n"
     ]
    }
   ],
   "source": [
    "print('####### SUPPORT VECTOR CLASSIFICATION REPORT #######')\n",
    "print(classification_report(y_true= yTrain, y_pred= [1 if svc_cv[i][1] > 0.5 else 0 for i in range(len(svc_cv))]))\n",
    "ConfusionMatrixDisplay.from_predictions(y_true= yTrain, y_pred= [1 if svc_cv[i][1] > 0.5 else 0 for i in range(len(svc_cv))], colorbar= False)\n",
    "plt.show()\n",
    "print(f'ROC-AUC Score: {roc_auc_score(y_true=yTrain, y_score = [1 if svc_cv[i][1] > 0.5 else 0 for i in range(len(svc_cv))])}')"
   ]
  },
  {
   "cell_type": "markdown",
   "metadata": {},
   "source": [
    "As we can see from the classification reports and confusion matrices, all the models are biased towards the non-survival class. This can be seen in the higher precision, recall, and F1-scores for the class in each model's classification report. The implication is that model predicts non-survival more often because it is the most prominent class. Therefore there are less misclassifications of non-survival since the majority of instances are from the non-survival class. The logicistic regression model performed the best with the highest ROC-AUC and the SVM performed the worst of all the models. However, our data was not scaled when we fit these models. As previously mentioned scaling data can help to prevent features with large scales from overpowering features with smaller scales. Scaling data can also help models that perform lots of computation such as SVMs to converge to better solutions. To examine the effects of using scaled data, let retrain our models with scaled data."
   ]
  },
  {
   "cell_type": "code",
   "execution_count": 15,
   "metadata": {},
   "outputs": [],
   "source": [
    "scaler = StandardScaler()\n",
    "scaler.fit(xTrain)\n",
    "\n",
    "xTrain_scaled = pd.DataFrame(data= scaler.transform(X= xTrain), columns= xTrain.columns)\n",
    "xTest_scaled = pd.DataFrame(data= scaler.transform(X= xTest), columns= xTest.columns)"
   ]
  },
  {
   "cell_type": "code",
   "execution_count": 16,
   "metadata": {},
   "outputs": [],
   "source": [
    "svc = svm.SVC(probability= True)\n",
    "svc_scaled_cv = cross_val_predict(estimator=svc, X=xTrain_scaled, y=yTrain, cv=5, method='predict_proba')"
   ]
  },
  {
   "cell_type": "code",
   "execution_count": 17,
   "metadata": {},
   "outputs": [
    {
     "name": "stdout",
     "output_type": "stream",
     "text": [
      "####### SCALED SUPPORT VECTOR CLASSIFICATION REPORT #######\n",
      "              precision    recall  f1-score   support\n",
      "\n",
      "           0       0.76      0.83      0.79       109\n",
      "           1       0.68      0.57      0.62        68\n",
      "\n",
      "    accuracy                           0.73       177\n",
      "   macro avg       0.72      0.70      0.71       177\n",
      "weighted avg       0.73      0.73      0.73       177\n",
      "\n"
     ]
    },
    {
     "data": {
      "image/png": "[encoded data removed]",
      "text/plain": [
       "<Figure size 640x480 with 1 Axes>"
      ]
     },
     "metadata": {},
     "output_type": "display_data"
    },
    {
     "name": "stdout",
     "output_type": "stream",
     "text": [
      "ROC-AUC Score: 0.7041958985429034\n"
     ]
    }
   ],
   "source": [
    "print('####### SCALED SUPPORT VECTOR CLASSIFICATION REPORT #######')\n",
    "print(classification_report(y_true= yTrain, y_pred= [1 if svc_scaled_cv[i][1] > 0.5 else 0 for i in range(len(svc_scaled_cv))]))\n",
    "ConfusionMatrixDisplay.from_predictions(y_true= yTrain, y_pred= [1 if svc_scaled_cv[i][1] > 0.5 else 0 for i in range(len(svc_scaled_cv))], colorbar= False)\n",
    "plt.show()\n",
    "print(f'ROC-AUC Score: {roc_auc_score(y_true=yTrain, y_score = [1 if svc_scaled_cv[i][1] > 0.5 else 0 for i in range(len(svc_scaled_cv))])}')"
   ]
  },
  {
   "cell_type": "markdown",
   "metadata": {},
   "source": [
    "The support vector classifier using the scaled data performed remarkably better than than model did when using unscaled data. Using the scaled data, the model achieved a precision score of 0.7 compared to the unscaled data which had a score of 0.59. This implies that the scaled data increases the ability of the model to correctly a survivor. Similarly, the recall of the model also improved when using the scaled data. It increased from 0.19 to 0.57 for predicting a survivor. Interestingly, the recall decreased when prediciting deaths from 0.92 to 0.84 when using the scaled data. From this we can say that the scaled data increased the ability of the model to correctly predict true survivors. When using the scaled data the accuracy of the model increased from 0.64 to 0.74, implying that the model does a better job of correctly predicting whether a person survived or died."
   ]
  },
  {
   "cell_type": "code",
   "execution_count": 31,
   "metadata": {},
   "outputs": [
    {
     "name": "stdout",
     "output_type": "stream",
     "text": [
      "####### SCALED LOGISTIC REGRESSION CLASSIFICATION REPORT #######\n",
      "              precision    recall  f1-score   support\n",
      "\n",
      "           0       0.82      0.84      0.83       109\n",
      "           1       0.74      0.71      0.72        68\n",
      "\n",
      "    accuracy                           0.79       177\n",
      "   macro avg       0.78      0.77      0.78       177\n",
      "weighted avg       0.79      0.79      0.79       177\n",
      "\n"
     ]
    },
    {
     "data": {
      "image/png": "[encoded data removed]",
      "text/plain": [
       "<Figure size 640x480 with 1 Axes>"
      ]
     },
     "metadata": {},
     "output_type": "display_data"
    },
    {
     "name": "stdout",
     "output_type": "stream",
     "text": [
      "ROC-AUC Score: 0.7749595250944415\n"
     ]
    }
   ],
   "source": [
    "lr = LogisticRegression(max_iter= 1000)\n",
    "lr_scaled = cross_val_predict(log_reg, xTrain_scaled, yTrain,cv=5, method='predict_proba')\n",
    "print('####### SCALED LOGISTIC REGRESSION CLASSIFICATION REPORT #######')\n",
    "print(classification_report(y_true= yTrain, y_pred= [1 if lr_scaled[i][1] > 0.5 else 0 for i in range(len(lr_scaled))]))\n",
    "ConfusionMatrixDisplay.from_predictions(y_true= yTrain, y_pred= [1 if lr_scaled[i][1] > 0.5 else 0 for i in range(len(lr_scaled))], colorbar= False)\n",
    "plt.show()\n",
    "print(f'ROC-AUC Score: {roc_auc_score(y_true=yTrain, y_score = [1 if lr_scaled[i][1] > 0.5 else 0 for i in range(len(lr_scaled))])}')"
   ]
  },
  {
   "cell_type": "code",
   "execution_count": 32,
   "metadata": {},
   "outputs": [
    {
     "name": "stdout",
     "output_type": "stream",
     "text": [
      "####### SCALED DECISION TREE CLASSIFICATION REPORT #######\n",
      "              precision    recall  f1-score   support\n",
      "\n",
      "           0       0.77      0.73      0.75       109\n",
      "           1       0.60      0.65      0.62        68\n",
      "\n",
      "    accuracy                           0.70       177\n",
      "   macro avg       0.69      0.69      0.69       177\n",
      "weighted avg       0.71      0.70      0.70       177\n",
      "\n"
     ]
    },
    {
     "data": {
      "image/png": "[encoded data removed]",
      "text/plain": [
       "<Figure size 640x480 with 1 Axes>"
      ]
     },
     "metadata": {},
     "output_type": "display_data"
    },
    {
     "name": "stdout",
     "output_type": "stream",
     "text": [
      "ROC-AUC Score: 0.6905018888289262\n"
     ]
    }
   ],
   "source": [
    "dtree = DecisionTreeClassifier()\n",
    "dtree_scaled = cross_val_predict(estimator=decisionTree, X=xTrain, y=yTrain, cv=5, method='predict_proba')\n",
    "print('####### SCALED DECISION TREE CLASSIFICATION REPORT #######')\n",
    "print(classification_report(y_true= yTrain, y_pred= [1 if dtree_scaled[i][1] > 0.5 else 0 for i in range(len(dtree_scaled))]))\n",
    "ConfusionMatrixDisplay.from_predictions(y_true= yTrain, y_pred= [1 if dtree_scaled[i][1] > 0.5 else 0 for i in range(len(dtree_scaled))], colorbar= False)\n",
    "plt.show()\n",
    "print(f'ROC-AUC Score: {roc_auc_score(y_true=yTrain, y_score = [1 if dtree_scaled[i][1] > 0.5 else 0 for i in range(len(dtree_scaled))])}')"
   ]
  },
  {
   "cell_type": "markdown",
   "metadata": {},
   "source": [
    "As you can see from both the confusion matrices and the ROC-AUC scores, scaling the data improved the performance of both the logicistic regression and the SVM, while the performance of the decision tree was slightly worse. Scaling the data significantly improved the performance of the SVM model, implying that certain model perform best on scaled data while other model such as decision trees are less sensitive to scaled data. To examine the impact of the scaled data and hyperparameter tuning on the SVM model, we will use grid search to tune the hyperparameters of the SVM and fit it using the scaled data."
   ]
  },
  {
   "cell_type": "code",
   "execution_count": 18,
   "metadata": {},
   "outputs": [
    {
     "name": "stdout",
     "output_type": "stream",
     "text": [
      "Fitting 5 folds for each of 30 candidates, totalling 150 fits\n"
     ]
    },
    {
     "data": {
      "text/html": [
       "<style>#sk-container-id-1 {\n",
       "  /* Definition of color scheme common for light and dark mode */\n",
       "  --sklearn-color-text: #000;\n",
       "  --sklearn-color-text-muted: #666;\n",
       "  --sklearn-color-line: gray;\n",
       "  /* Definition of color scheme for unfitted estimators */\n",
       "  --sklearn-color-unfitted-level-0: #fff5e6;\n",
       "  --sklearn-color-unfitted-level-1: #f6e4d2;\n",
       "  --sklearn-color-unfitted-level-2: #ffe0b3;\n",
       "  --sklearn-color-unfitted-level-3: chocolate;\n",
       "  /* Definition of color scheme for fitted estimators */\n",
       "  --sklearn-color-fitted-level-0: #f0f8ff;\n",
       "  --sklearn-color-fitted-level-1: #d4ebff;\n",
       "  --sklearn-color-fitted-level-2: #b3dbfd;\n",
       "  --sklearn-color-fitted-level-3: cornflowerblue;\n",
       "\n",
       "  /* Specific color for light theme */\n",
       "  --sklearn-color-text-on-default-background: var(--sg-text-color, var(--theme-code-foreground, var(--jp-content-font-color1, black)));\n",
       "  --sklearn-color-background: var(--sg-background-color, var(--theme-background, var(--jp-layout-color0, white)));\n",
       "  --sklearn-color-border-box: var(--sg-text-color, var(--theme-code-foreground, var(--jp-content-font-color1, black)));\n",
       "  --sklearn-color-icon: #696969;\n",
       "\n",
       "  @media (prefers-color-scheme: dark) {\n",
       "    /* Redefinition of color scheme for dark theme */\n",
       "    --sklearn-color-text-on-default-background: var(--sg-text-color, var(--theme-code-foreground, var(--jp-content-font-color1, white)));\n",
       "    --sklearn-color-background: var(--sg-background-color, var(--theme-background, var(--jp-layout-color0, #111)));\n",
       "    --sklearn-color-border-box: var(--sg-text-color, var(--theme-code-foreground, var(--jp-content-font-color1, white)));\n",
       "    --sklearn-color-icon: #878787;\n",
       "  }\n",
       "}\n",
       "\n",
       "#sk-container-id-1 {\n",
       "  color: var(--sklearn-color-text);\n",
       "}\n",
       "\n",
       "#sk-container-id-1 pre {\n",
       "  padding: 0;\n",
       "}\n",
       "\n",
       "#sk-container-id-1 input.sk-hidden--visually {\n",
       "  border: 0;\n",
       "  clip: rect(1px 1px 1px 1px);\n",
       "  clip: rect(1px, 1px, 1px, 1px);\n",
       "  height: 1px;\n",
       "  margin: -1px;\n",
       "  overflow: hidden;\n",
       "  padding: 0;\n",
       "  position: absolute;\n",
       "  width: 1px;\n",
       "}\n",
       "\n",
       "#sk-container-id-1 div.sk-dashed-wrapped {\n",
       "  border: 1px dashed var(--sklearn-color-line);\n",
       "  margin: 0 0.4em 0.5em 0.4em;\n",
       "  box-sizing: border-box;\n",
       "  padding-bottom: 0.4em;\n",
       "  background-color: var(--sklearn-color-background);\n",
       "}\n",
       "\n",
       "#sk-container-id-1 div.sk-container {\n",
       "  /* jupyter's `normalize.less` sets `[hidden] { display: none; }`\n",
       "     but bootstrap.min.css set `[hidden] { display: none !important; }`\n",
       "     so we also need the `!important` here to be able to override the\n",
       "     default hidden behavior on the sphinx rendered scikit-learn.org.\n",
       "     See: https://github.com/scikit-learn/scikit-learn/issues/21755 */\n",
       "  display: inline-block !important;\n",
       "  position: relative;\n",
       "}\n",
       "\n",
       "#sk-container-id-1 div.sk-text-repr-fallback {\n",
       "  display: none;\n",
       "}\n",
       "\n",
       "div.sk-parallel-item,\n",
       "div.sk-serial,\n",
       "div.sk-item {\n",
       "  /* draw centered vertical line to link estimators */\n",
       "  background-image: linear-gradient(var(--sklearn-color-text-on-default-background), var(--sklearn-color-text-on-default-background));\n",
       "  background-size: 2px 100%;\n",
       "  background-repeat: no-repeat;\n",
       "  background-position: center center;\n",
       "}\n",
       "\n",
       "/* Parallel-specific style estimator block */\n",
       "\n",
       "#sk-container-id-1 div.sk-parallel-item::after {\n",
       "  content: \"\";\n",
       "  width: 100%;\n",
       "  border-bottom: 2px solid var(--sklearn-color-text-on-default-background);\n",
       "  flex-grow: 1;\n",
       "}\n",
       "\n",
       "#sk-container-id-1 div.sk-parallel {\n",
       "  display: flex;\n",
       "  align-items: stretch;\n",
       "  justify-content: center;\n",
       "  background-color: var(--sklearn-color-background);\n",
       "  position: relative;\n",
       "}\n",
       "\n",
       "#sk-container-id-1 div.sk-parallel-item {\n",
       "  display: flex;\n",
       "  flex-direction: column;\n",
       "}\n",
       "\n",
       "#sk-container-id-1 div.sk-parallel-item:first-child::after {\n",
       "  align-self: flex-end;\n",
       "  width: 50%;\n",
       "}\n",
       "\n",
       "#sk-container-id-1 div.sk-parallel-item:last-child::after {\n",
       "  align-self: flex-start;\n",
       "  width: 50%;\n",
       "}\n",
       "\n",
       "#sk-container-id-1 div.sk-parallel-item:only-child::after {\n",
       "  width: 0;\n",
       "}\n",
       "\n",
       "/* Serial-specific style estimator block */\n",
       "\n",
       "#sk-container-id-1 div.sk-serial {\n",
       "  display: flex;\n",
       "  flex-direction: column;\n",
       "  align-items: center;\n",
       "  background-color: var(--sklearn-color-background);\n",
       "  padding-right: 1em;\n",
       "  padding-left: 1em;\n",
       "}\n",
       "\n",
       "\n",
       "/* Toggleable style: style used for estimator/Pipeline/ColumnTransformer box that is\n",
       "clickable and can be expanded/collapsed.\n",
       "- Pipeline and ColumnTransformer use this feature and define the default style\n",
       "- Estimators will overwrite some part of the style using the `sk-estimator` class\n",
       "*/\n",
       "\n",
       "/* Pipeline and ColumnTransformer style (default) */\n",
       "\n",
       "#sk-container-id-1 div.sk-toggleable {\n",
       "  /* Default theme specific background. It is overwritten whether we have a\n",
       "  specific estimator or a Pipeline/ColumnTransformer */\n",
       "  background-color: var(--sklearn-color-background);\n",
       "}\n",
       "\n",
       "/* Toggleable label */\n",
       "#sk-container-id-1 label.sk-toggleable__label {\n",
       "  cursor: pointer;\n",
       "  display: flex;\n",
       "  width: 100%;\n",
       "  margin-bottom: 0;\n",
       "  padding: 0.5em;\n",
       "  box-sizing: border-box;\n",
       "  text-align: center;\n",
       "  align-items: start;\n",
       "  justify-content: space-between;\n",
       "  gap: 0.5em;\n",
       "}\n",
       "\n",
       "#sk-container-id-1 label.sk-toggleable__label .caption {\n",
       "  font-size: 0.6rem;\n",
       "  font-weight: lighter;\n",
       "  color: var(--sklearn-color-text-muted);\n",
       "}\n",
       "\n",
       "#sk-container-id-1 label.sk-toggleable__label-arrow:before {\n",
       "  /* Arrow on the left of the label */\n",
       "  content: \"▸\";\n",
       "  float: left;\n",
       "  margin-right: 0.25em;\n",
       "  color: var(--sklearn-color-icon);\n",
       "}\n",
       "\n",
       "#sk-container-id-1 label.sk-toggleable__label-arrow:hover:before {\n",
       "  color: var(--sklearn-color-text);\n",
       "}\n",
       "\n",
       "/* Toggleable content - dropdown */\n",
       "\n",
       "#sk-container-id-1 div.sk-toggleable__content {\n",
       "  max-height: 0;\n",
       "  max-width: 0;\n",
       "  overflow: hidden;\n",
       "  text-align: left;\n",
       "  /* unfitted */\n",
       "  background-color: var(--sklearn-color-unfitted-level-0);\n",
       "}\n",
       "\n",
       "#sk-container-id-1 div.sk-toggleable__content.fitted {\n",
       "  /* fitted */\n",
       "  background-color: var(--sklearn-color-fitted-level-0);\n",
       "}\n",
       "\n",
       "#sk-container-id-1 div.sk-toggleable__content pre {\n",
       "  margin: 0.2em;\n",
       "  border-radius: 0.25em;\n",
       "  color: var(--sklearn-color-text);\n",
       "  /* unfitted */\n",
       "  background-color: var(--sklearn-color-unfitted-level-0);\n",
       "}\n",
       "\n",
       "#sk-container-id-1 div.sk-toggleable__content.fitted pre {\n",
       "  /* unfitted */\n",
       "  background-color: var(--sklearn-color-fitted-level-0);\n",
       "}\n",
       "\n",
       "#sk-container-id-1 input.sk-toggleable__control:checked~div.sk-toggleable__content {\n",
       "  /* Expand drop-down */\n",
       "  max-height: 200px;\n",
       "  max-width: 100%;\n",
       "  overflow: auto;\n",
       "}\n",
       "\n",
       "#sk-container-id-1 input.sk-toggleable__control:checked~label.sk-toggleable__label-arrow:before {\n",
       "  content: \"▾\";\n",
       "}\n",
       "\n",
       "/* Pipeline/ColumnTransformer-specific style */\n",
       "\n",
       "#sk-container-id-1 div.sk-label input.sk-toggleable__control:checked~label.sk-toggleable__label {\n",
       "  color: var(--sklearn-color-text);\n",
       "  background-color: var(--sklearn-color-unfitted-level-2);\n",
       "}\n",
       "\n",
       "#sk-container-id-1 div.sk-label.fitted input.sk-toggleable__control:checked~label.sk-toggleable__label {\n",
       "  background-color: var(--sklearn-color-fitted-level-2);\n",
       "}\n",
       "\n",
       "/* Estimator-specific style */\n",
       "\n",
       "/* Colorize estimator box */\n",
       "#sk-container-id-1 div.sk-estimator input.sk-toggleable__control:checked~label.sk-toggleable__label {\n",
       "  /* unfitted */\n",
       "  background-color: var(--sklearn-color-unfitted-level-2);\n",
       "}\n",
       "\n",
       "#sk-container-id-1 div.sk-estimator.fitted input.sk-toggleable__control:checked~label.sk-toggleable__label {\n",
       "  /* fitted */\n",
       "  background-color: var(--sklearn-color-fitted-level-2);\n",
       "}\n",
       "\n",
       "#sk-container-id-1 div.sk-label label.sk-toggleable__label,\n",
       "#sk-container-id-1 div.sk-label label {\n",
       "  /* The background is the default theme color */\n",
       "  color: var(--sklearn-color-text-on-default-background);\n",
       "}\n",
       "\n",
       "/* On hover, darken the color of the background */\n",
       "#sk-container-id-1 div.sk-label:hover label.sk-toggleable__label {\n",
       "  color: var(--sklearn-color-text);\n",
       "  background-color: var(--sklearn-color-unfitted-level-2);\n",
       "}\n",
       "\n",
       "/* Label box, darken color on hover, fitted */\n",
       "#sk-container-id-1 div.sk-label.fitted:hover label.sk-toggleable__label.fitted {\n",
       "  color: var(--sklearn-color-text);\n",
       "  background-color: var(--sklearn-color-fitted-level-2);\n",
       "}\n",
       "\n",
       "/* Estimator label */\n",
       "\n",
       "#sk-container-id-1 div.sk-label label {\n",
       "  font-family: monospace;\n",
       "  font-weight: bold;\n",
       "  display: inline-block;\n",
       "  line-height: 1.2em;\n",
       "}\n",
       "\n",
       "#sk-container-id-1 div.sk-label-container {\n",
       "  text-align: center;\n",
       "}\n",
       "\n",
       "/* Estimator-specific */\n",
       "#sk-container-id-1 div.sk-estimator {\n",
       "  font-family: monospace;\n",
       "  border: 1px dotted var(--sklearn-color-border-box);\n",
       "  border-radius: 0.25em;\n",
       "  box-sizing: border-box;\n",
       "  margin-bottom: 0.5em;\n",
       "  /* unfitted */\n",
       "  background-color: var(--sklearn-color-unfitted-level-0);\n",
       "}\n",
       "\n",
       "#sk-container-id-1 div.sk-estimator.fitted {\n",
       "  /* fitted */\n",
       "  background-color: var(--sklearn-color-fitted-level-0);\n",
       "}\n",
       "\n",
       "/* on hover */\n",
       "#sk-container-id-1 div.sk-estimator:hover {\n",
       "  /* unfitted */\n",
       "  background-color: var(--sklearn-color-unfitted-level-2);\n",
       "}\n",
       "\n",
       "#sk-container-id-1 div.sk-estimator.fitted:hover {\n",
       "  /* fitted */\n",
       "  background-color: var(--sklearn-color-fitted-level-2);\n",
       "}\n",
       "\n",
       "/* Specification for estimator info (e.g. \"i\" and \"?\") */\n",
       "\n",
       "/* Common style for \"i\" and \"?\" */\n",
       "\n",
       ".sk-estimator-doc-link,\n",
       "a:link.sk-estimator-doc-link,\n",
       "a:visited.sk-estimator-doc-link {\n",
       "  float: right;\n",
       "  font-size: smaller;\n",
       "  line-height: 1em;\n",
       "  font-family: monospace;\n",
       "  background-color: var(--sklearn-color-background);\n",
       "  border-radius: 1em;\n",
       "  height: 1em;\n",
       "  width: 1em;\n",
       "  text-decoration: none !important;\n",
       "  margin-left: 0.5em;\n",
       "  text-align: center;\n",
       "  /* unfitted */\n",
       "  border: var(--sklearn-color-unfitted-level-1) 1pt solid;\n",
       "  color: var(--sklearn-color-unfitted-level-1);\n",
       "}\n",
       "\n",
       ".sk-estimator-doc-link.fitted,\n",
       "a:link.sk-estimator-doc-link.fitted,\n",
       "a:visited.sk-estimator-doc-link.fitted {\n",
       "  /* fitted */\n",
       "  border: var(--sklearn-color-fitted-level-1) 1pt solid;\n",
       "  color: var(--sklearn-color-fitted-level-1);\n",
       "}\n",
       "\n",
       "/* On hover */\n",
       "div.sk-estimator:hover .sk-estimator-doc-link:hover,\n",
       ".sk-estimator-doc-link:hover,\n",
       "div.sk-label-container:hover .sk-estimator-doc-link:hover,\n",
       ".sk-estimator-doc-link:hover {\n",
       "  /* unfitted */\n",
       "  background-color: var(--sklearn-color-unfitted-level-3);\n",
       "  color: var(--sklearn-color-background);\n",
       "  text-decoration: none;\n",
       "}\n",
       "\n",
       "div.sk-estimator.fitted:hover .sk-estimator-doc-link.fitted:hover,\n",
       ".sk-estimator-doc-link.fitted:hover,\n",
       "div.sk-label-container:hover .sk-estimator-doc-link.fitted:hover,\n",
       ".sk-estimator-doc-link.fitted:hover {\n",
       "  /* fitted */\n",
       "  background-color: var(--sklearn-color-fitted-level-3);\n",
       "  color: var(--sklearn-color-background);\n",
       "  text-decoration: none;\n",
       "}\n",
       "\n",
       "/* Span, style for the box shown on hovering the info icon */\n",
       ".sk-estimator-doc-link span {\n",
       "  display: none;\n",
       "  z-index: 9999;\n",
       "  position: relative;\n",
       "  font-weight: normal;\n",
       "  right: .2ex;\n",
       "  padding: .5ex;\n",
       "  margin: .5ex;\n",
       "  width: min-content;\n",
       "  min-width: 20ex;\n",
       "  max-width: 50ex;\n",
       "  color: var(--sklearn-color-text);\n",
       "  box-shadow: 2pt 2pt 4pt #999;\n",
       "  /* unfitted */\n",
       "  background: var(--sklearn-color-unfitted-level-0);\n",
       "  border: .5pt solid var(--sklearn-color-unfitted-level-3);\n",
       "}\n",
       "\n",
       ".sk-estimator-doc-link.fitted span {\n",
       "  /* fitted */\n",
       "  background: var(--sklearn-color-fitted-level-0);\n",
       "  border: var(--sklearn-color-fitted-level-3);\n",
       "}\n",
       "\n",
       ".sk-estimator-doc-link:hover span {\n",
       "  display: block;\n",
       "}\n",
       "\n",
       "/* \"?\"-specific style due to the `<a>` HTML tag */\n",
       "\n",
       "#sk-container-id-1 a.estimator_doc_link {\n",
       "  float: right;\n",
       "  font-size: 1rem;\n",
       "  line-height: 1em;\n",
       "  font-family: monospace;\n",
       "  background-color: var(--sklearn-color-background);\n",
       "  border-radius: 1rem;\n",
       "  height: 1rem;\n",
       "  width: 1rem;\n",
       "  text-decoration: none;\n",
       "  /* unfitted */\n",
       "  color: var(--sklearn-color-unfitted-level-1);\n",
       "  border: var(--sklearn-color-unfitted-level-1) 1pt solid;\n",
       "}\n",
       "\n",
       "#sk-container-id-1 a.estimator_doc_link.fitted {\n",
       "  /* fitted */\n",
       "  border: var(--sklearn-color-fitted-level-1) 1pt solid;\n",
       "  color: var(--sklearn-color-fitted-level-1);\n",
       "}\n",
       "\n",
       "/* On hover */\n",
       "#sk-container-id-1 a.estimator_doc_link:hover {\n",
       "  /* unfitted */\n",
       "  background-color: var(--sklearn-color-unfitted-level-3);\n",
       "  color: var(--sklearn-color-background);\n",
       "  text-decoration: none;\n",
       "}\n",
       "\n",
       "#sk-container-id-1 a.estimator_doc_link.fitted:hover {\n",
       "  /* fitted */\n",
       "  background-color: var(--sklearn-color-fitted-level-3);\n",
       "}\n",
       "</style><div id=\"sk-container-id-1\" class=\"sk-top-container\"><div class=\"sk-text-repr-fallback\"><pre>GridSearchCV(cv=5, estimator=SVC(probability=True),\n",
       "             param_grid={&#x27;C&#x27;: [1, 10, 50, 100, 200, 300],\n",
       "                         &#x27;gamma&#x27;: [0.0001, 0.001, 0.01, 0.1, 1],\n",
       "                         &#x27;kernel&#x27;: [&#x27;rbf&#x27;]},\n",
       "             scoring=&#x27;roc_auc&#x27;, verbose=1)</pre><b>In a Jupyter environment, please rerun this cell to show the HTML representation or trust the notebook. <br />On GitHub, the HTML representation is unable to render, please try loading this page with nbviewer.org.</b></div><div class=\"sk-container\" hidden><div class=\"sk-item sk-dashed-wrapped\"><div class=\"sk-label-container\"><div class=\"sk-label fitted sk-toggleable\"><input class=\"sk-toggleable__control sk-hidden--visually\" id=\"sk-estimator-id-1\" type=\"checkbox\" ><label for=\"sk-estimator-id-1\" class=\"sk-toggleable__label fitted sk-toggleable__label-arrow\"><div><div>GridSearchCV</div></div><div><a class=\"sk-estimator-doc-link fitted\" rel=\"noreferrer\" target=\"_blank\" href=\"https://scikit-learn.org/1.6/modules/generated/sklearn.model_selection.GridSearchCV.html\">?<span>Documentation for GridSearchCV</span></a><span class=\"sk-estimator-doc-link fitted\">i<span>Fitted</span></span></div></label><div class=\"sk-toggleable__content fitted\"><pre>GridSearchCV(cv=5, estimator=SVC(probability=True),\n",
       "             param_grid={&#x27;C&#x27;: [1, 10, 50, 100, 200, 300],\n",
       "                         &#x27;gamma&#x27;: [0.0001, 0.001, 0.01, 0.1, 1],\n",
       "                         &#x27;kernel&#x27;: [&#x27;rbf&#x27;]},\n",
       "             scoring=&#x27;roc_auc&#x27;, verbose=1)</pre></div> </div></div><div class=\"sk-parallel\"><div class=\"sk-parallel-item\"><div class=\"sk-item\"><div class=\"sk-label-container\"><div class=\"sk-label fitted sk-toggleable\"><input class=\"sk-toggleable__control sk-hidden--visually\" id=\"sk-estimator-id-2\" type=\"checkbox\" ><label for=\"sk-estimator-id-2\" class=\"sk-toggleable__label fitted sk-toggleable__label-arrow\"><div><div>best_estimator_: SVC</div></div></label><div class=\"sk-toggleable__content fitted\"><pre>SVC(C=1, gamma=0.01, probability=True)</pre></div> </div></div><div class=\"sk-serial\"><div class=\"sk-item\"><div class=\"sk-estimator fitted sk-toggleable\"><input class=\"sk-toggleable__control sk-hidden--visually\" id=\"sk-estimator-id-3\" type=\"checkbox\" ><label for=\"sk-estimator-id-3\" class=\"sk-toggleable__label fitted sk-toggleable__label-arrow\"><div><div>SVC</div></div><div><a class=\"sk-estimator-doc-link fitted\" rel=\"noreferrer\" target=\"_blank\" href=\"https://scikit-learn.org/1.6/modules/generated/sklearn.svm.SVC.html\">?<span>Documentation for SVC</span></a></div></label><div class=\"sk-toggleable__content fitted\"><pre>SVC(C=1, gamma=0.01, probability=True)</pre></div> </div></div></div></div></div></div></div></div></div>"
      ],
      "text/plain": [
       "GridSearchCV(cv=5, estimator=SVC(probability=True),\n",
       "             param_grid={'C': [1, 10, 50, 100, 200, 300],\n",
       "                         'gamma': [0.0001, 0.001, 0.01, 0.1, 1],\n",
       "                         'kernel': ['rbf']},\n",
       "             scoring='roc_auc', verbose=1)"
      ]
     },
     "execution_count": 18,
     "metadata": {},
     "output_type": "execute_result"
    }
   ],
   "source": [
    "params = {'kernel':['rbf'], 'gamma': [0.0001, 0.001, 0.01, 0.1, 1], 'C':[1,10,50,100,200,300]}\n",
    "\n",
    "svc_grid_cv = GridSearchCV(estimator=svc,\n",
    "                           param_grid=params,\n",
    "                           cv=5,\n",
    "                           scoring='roc_auc',\n",
    "                           verbose=1)\n",
    "\n",
    "svc_grid_cv.fit(xTrain_scaled, yTrain)"
   ]
  },
  {
   "cell_type": "code",
   "execution_count": 19,
   "metadata": {},
   "outputs": [
    {
     "name": "stdout",
     "output_type": "stream",
     "text": [
      "Best parameters: {'C': 1, 'gamma': 0.01, 'kernel': 'rbf'}\t Best ROC-AUC Score:0.8366657152371438\n"
     ]
    }
   ],
   "source": [
    "print(f'Best parameters: {svc_grid_cv.best_params_}\\t Best ROC-AUC Score:{svc_grid_cv.best_score_}')"
   ]
  },
  {
   "cell_type": "markdown",
   "metadata": {},
   "source": [
    "Clearly the tuned SVM model had the best performance on the scaled test data with an ROC-AUC score of 0.8367. This far surpasses the performance of the other models fitted with the scaled data. What we are really interested in is how well the model can predict the survival of a passsenger from unseen data. To test the model, we predict the values of the scaled test data and examined the ROC-AUC score and confusion matrix."
   ]
  },
  {
   "cell_type": "code",
   "execution_count": null,
   "metadata": {},
   "outputs": [
    {
     "name": "stdout",
     "output_type": "stream",
     "text": [
      "####### TUNED SUPPORT VECTOR CLASSIFICATION REPORT #######\n",
      "              precision    recall  f1-score   support\n",
      "\n",
      "           0       0.82      0.85      0.83       440\n",
      "           1       0.74      0.69      0.71       272\n",
      "\n",
      "    accuracy                           0.79       712\n",
      "   macro avg       0.78      0.77      0.77       712\n",
      "weighted avg       0.79      0.79      0.79       712\n",
      "\n"
     ]
    },
    {
     "data": {
      "image/png": "[encoded data removed]",
      "text/plain": [
       "<Figure size 640x480 with 1 Axes>"
      ]
     },
     "metadata": {},
     "output_type": "display_data"
    },
    {
     "name": "stdout",
     "output_type": "stream",
     "text": [
      "ROC-AUC Score: 0.7698863636363636\n"
     ]
    }
   ],
   "source": [
    "preds = svc_grid_cv.predict(xTest_scaled)\n",
    "print('####### TUNED SUPPORT VECTOR CLASSIFICATION REPORT #######')\n",
    "print(classification_report(y_true= yTest, y_pred= preds))\n",
    "ConfusionMatrixDisplay.from_predictions(y_true= yTest, y_pred= preds, colorbar= False)\n",
    "plt.show()\n",
    "print(f'ROC-AUC Score: {roc_auc_score(y_true=yTest, y_score = preds)}')"
   ]
  },
  {
   "cell_type": "markdown",
   "metadata": {},
   "source": [
    "The model a lower ROC-AUC score on the test data then it did on the training data. This suggests that the model does a worse job of separating classes on unseen data then on the training data. The implication is that the model is overfit to the training data and additional model tuning should be done to help prevent overfitting. Despite overfitting, the model still preforms fairly well an accuracy of 79%. It was most successful with correctly predicting non-survival with an F1-score of 0.83 compared to the 0.69 F1-score for survival. This suggests that the model may be biased toward non-survival. This makes sense as the classes are heavily imbalanced with a greater share of instances in the non-survival class. To improve the performance of the model, different techniques to deal with the class imbalance such as oversampling the underrepsented class or class weights could be implemented. These methods are outside the scope of this exercise."
   ]
  }
 ],
 "metadata": {
  "kernelspec": {
   "display_name": "venv",
   "language": "python",
   "name": "python3"
  },
  "language_info": {
   "codemirror_mode": {
    "name": "ipython",
    "version": 3
   },
   "file_extension": ".py",
   "mimetype": "text/x-python",
   "name": "python",
   "nbconvert_exporter": "python",
   "pygments_lexer": "ipython3",
   "version": "3.13.2"
  }
 },
 "nbformat": 4,
 "nbformat_minor": 2
}
